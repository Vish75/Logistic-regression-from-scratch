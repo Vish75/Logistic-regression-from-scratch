{
 "cells": [
  {
   "cell_type": "code",
   "execution_count": 1,
   "id": "7f1e69f9",
   "metadata": {},
   "outputs": [],
   "source": [
    "import numpy as np\n",
    "import pandas as pd"
   ]
  },
  {
   "cell_type": "code",
   "execution_count": 3,
   "id": "4525fafe",
   "metadata": {},
   "outputs": [],
   "source": [
    "df = pd.read_csv('iris.csv')"
   ]
  },
  {
   "cell_type": "code",
   "execution_count": 4,
   "id": "7738d4a2",
   "metadata": {},
   "outputs": [
    {
     "data": {
      "text/html": [
       "<div>\n",
       "<style scoped>\n",
       "    .dataframe tbody tr th:only-of-type {\n",
       "        vertical-align: middle;\n",
       "    }\n",
       "\n",
       "    .dataframe tbody tr th {\n",
       "        vertical-align: top;\n",
       "    }\n",
       "\n",
       "    .dataframe thead th {\n",
       "        text-align: right;\n",
       "    }\n",
       "</style>\n",
       "<table border=\"1\" class=\"dataframe\">\n",
       "  <thead>\n",
       "    <tr style=\"text-align: right;\">\n",
       "      <th></th>\n",
       "      <th>Id</th>\n",
       "      <th>SepalLengthCm</th>\n",
       "      <th>SepalWidthCm</th>\n",
       "      <th>PetalLengthCm</th>\n",
       "      <th>PetalWidthCm</th>\n",
       "      <th>Species</th>\n",
       "    </tr>\n",
       "  </thead>\n",
       "  <tbody>\n",
       "    <tr>\n",
       "      <th>0</th>\n",
       "      <td>1</td>\n",
       "      <td>5.1</td>\n",
       "      <td>3.5</td>\n",
       "      <td>1.4</td>\n",
       "      <td>0.2</td>\n",
       "      <td>Iris-setosa</td>\n",
       "    </tr>\n",
       "    <tr>\n",
       "      <th>1</th>\n",
       "      <td>2</td>\n",
       "      <td>4.9</td>\n",
       "      <td>3.0</td>\n",
       "      <td>1.4</td>\n",
       "      <td>0.2</td>\n",
       "      <td>Iris-setosa</td>\n",
       "    </tr>\n",
       "    <tr>\n",
       "      <th>2</th>\n",
       "      <td>3</td>\n",
       "      <td>4.7</td>\n",
       "      <td>3.2</td>\n",
       "      <td>1.3</td>\n",
       "      <td>0.2</td>\n",
       "      <td>Iris-setosa</td>\n",
       "    </tr>\n",
       "    <tr>\n",
       "      <th>3</th>\n",
       "      <td>4</td>\n",
       "      <td>4.6</td>\n",
       "      <td>3.1</td>\n",
       "      <td>1.5</td>\n",
       "      <td>0.2</td>\n",
       "      <td>Iris-setosa</td>\n",
       "    </tr>\n",
       "    <tr>\n",
       "      <th>4</th>\n",
       "      <td>5</td>\n",
       "      <td>5.0</td>\n",
       "      <td>3.6</td>\n",
       "      <td>1.4</td>\n",
       "      <td>0.2</td>\n",
       "      <td>Iris-setosa</td>\n",
       "    </tr>\n",
       "    <tr>\n",
       "      <th>...</th>\n",
       "      <td>...</td>\n",
       "      <td>...</td>\n",
       "      <td>...</td>\n",
       "      <td>...</td>\n",
       "      <td>...</td>\n",
       "      <td>...</td>\n",
       "    </tr>\n",
       "    <tr>\n",
       "      <th>145</th>\n",
       "      <td>146</td>\n",
       "      <td>6.7</td>\n",
       "      <td>3.0</td>\n",
       "      <td>5.2</td>\n",
       "      <td>2.3</td>\n",
       "      <td>Iris-virginica</td>\n",
       "    </tr>\n",
       "    <tr>\n",
       "      <th>146</th>\n",
       "      <td>147</td>\n",
       "      <td>6.3</td>\n",
       "      <td>2.5</td>\n",
       "      <td>5.0</td>\n",
       "      <td>1.9</td>\n",
       "      <td>Iris-virginica</td>\n",
       "    </tr>\n",
       "    <tr>\n",
       "      <th>147</th>\n",
       "      <td>148</td>\n",
       "      <td>6.5</td>\n",
       "      <td>3.0</td>\n",
       "      <td>5.2</td>\n",
       "      <td>2.0</td>\n",
       "      <td>Iris-virginica</td>\n",
       "    </tr>\n",
       "    <tr>\n",
       "      <th>148</th>\n",
       "      <td>149</td>\n",
       "      <td>6.2</td>\n",
       "      <td>3.4</td>\n",
       "      <td>5.4</td>\n",
       "      <td>2.3</td>\n",
       "      <td>Iris-virginica</td>\n",
       "    </tr>\n",
       "    <tr>\n",
       "      <th>149</th>\n",
       "      <td>150</td>\n",
       "      <td>5.9</td>\n",
       "      <td>3.0</td>\n",
       "      <td>5.1</td>\n",
       "      <td>1.8</td>\n",
       "      <td>Iris-virginica</td>\n",
       "    </tr>\n",
       "  </tbody>\n",
       "</table>\n",
       "<p>150 rows × 6 columns</p>\n",
       "</div>"
      ],
      "text/plain": [
       "      Id  SepalLengthCm  SepalWidthCm  PetalLengthCm  PetalWidthCm  \\\n",
       "0      1            5.1           3.5            1.4           0.2   \n",
       "1      2            4.9           3.0            1.4           0.2   \n",
       "2      3            4.7           3.2            1.3           0.2   \n",
       "3      4            4.6           3.1            1.5           0.2   \n",
       "4      5            5.0           3.6            1.4           0.2   \n",
       "..   ...            ...           ...            ...           ...   \n",
       "145  146            6.7           3.0            5.2           2.3   \n",
       "146  147            6.3           2.5            5.0           1.9   \n",
       "147  148            6.5           3.0            5.2           2.0   \n",
       "148  149            6.2           3.4            5.4           2.3   \n",
       "149  150            5.9           3.0            5.1           1.8   \n",
       "\n",
       "            Species  \n",
       "0       Iris-setosa  \n",
       "1       Iris-setosa  \n",
       "2       Iris-setosa  \n",
       "3       Iris-setosa  \n",
       "4       Iris-setosa  \n",
       "..              ...  \n",
       "145  Iris-virginica  \n",
       "146  Iris-virginica  \n",
       "147  Iris-virginica  \n",
       "148  Iris-virginica  \n",
       "149  Iris-virginica  \n",
       "\n",
       "[150 rows x 6 columns]"
      ]
     },
     "execution_count": 4,
     "metadata": {},
     "output_type": "execute_result"
    }
   ],
   "source": [
    "df"
   ]
  },
  {
   "cell_type": "code",
   "execution_count": 5,
   "id": "cb406cf9",
   "metadata": {},
   "outputs": [],
   "source": [
    "df = df.iloc[:,1:]"
   ]
  },
  {
   "cell_type": "code",
   "execution_count": 6,
   "id": "a8b584be",
   "metadata": {},
   "outputs": [
    {
     "data": {
      "text/html": [
       "<div>\n",
       "<style scoped>\n",
       "    .dataframe tbody tr th:only-of-type {\n",
       "        vertical-align: middle;\n",
       "    }\n",
       "\n",
       "    .dataframe tbody tr th {\n",
       "        vertical-align: top;\n",
       "    }\n",
       "\n",
       "    .dataframe thead th {\n",
       "        text-align: right;\n",
       "    }\n",
       "</style>\n",
       "<table border=\"1\" class=\"dataframe\">\n",
       "  <thead>\n",
       "    <tr style=\"text-align: right;\">\n",
       "      <th></th>\n",
       "      <th>SepalLengthCm</th>\n",
       "      <th>SepalWidthCm</th>\n",
       "      <th>PetalLengthCm</th>\n",
       "      <th>PetalWidthCm</th>\n",
       "      <th>Species</th>\n",
       "    </tr>\n",
       "  </thead>\n",
       "  <tbody>\n",
       "    <tr>\n",
       "      <th>0</th>\n",
       "      <td>5.1</td>\n",
       "      <td>3.5</td>\n",
       "      <td>1.4</td>\n",
       "      <td>0.2</td>\n",
       "      <td>Iris-setosa</td>\n",
       "    </tr>\n",
       "    <tr>\n",
       "      <th>1</th>\n",
       "      <td>4.9</td>\n",
       "      <td>3.0</td>\n",
       "      <td>1.4</td>\n",
       "      <td>0.2</td>\n",
       "      <td>Iris-setosa</td>\n",
       "    </tr>\n",
       "    <tr>\n",
       "      <th>2</th>\n",
       "      <td>4.7</td>\n",
       "      <td>3.2</td>\n",
       "      <td>1.3</td>\n",
       "      <td>0.2</td>\n",
       "      <td>Iris-setosa</td>\n",
       "    </tr>\n",
       "    <tr>\n",
       "      <th>3</th>\n",
       "      <td>4.6</td>\n",
       "      <td>3.1</td>\n",
       "      <td>1.5</td>\n",
       "      <td>0.2</td>\n",
       "      <td>Iris-setosa</td>\n",
       "    </tr>\n",
       "    <tr>\n",
       "      <th>4</th>\n",
       "      <td>5.0</td>\n",
       "      <td>3.6</td>\n",
       "      <td>1.4</td>\n",
       "      <td>0.2</td>\n",
       "      <td>Iris-setosa</td>\n",
       "    </tr>\n",
       "    <tr>\n",
       "      <th>...</th>\n",
       "      <td>...</td>\n",
       "      <td>...</td>\n",
       "      <td>...</td>\n",
       "      <td>...</td>\n",
       "      <td>...</td>\n",
       "    </tr>\n",
       "    <tr>\n",
       "      <th>145</th>\n",
       "      <td>6.7</td>\n",
       "      <td>3.0</td>\n",
       "      <td>5.2</td>\n",
       "      <td>2.3</td>\n",
       "      <td>Iris-virginica</td>\n",
       "    </tr>\n",
       "    <tr>\n",
       "      <th>146</th>\n",
       "      <td>6.3</td>\n",
       "      <td>2.5</td>\n",
       "      <td>5.0</td>\n",
       "      <td>1.9</td>\n",
       "      <td>Iris-virginica</td>\n",
       "    </tr>\n",
       "    <tr>\n",
       "      <th>147</th>\n",
       "      <td>6.5</td>\n",
       "      <td>3.0</td>\n",
       "      <td>5.2</td>\n",
       "      <td>2.0</td>\n",
       "      <td>Iris-virginica</td>\n",
       "    </tr>\n",
       "    <tr>\n",
       "      <th>148</th>\n",
       "      <td>6.2</td>\n",
       "      <td>3.4</td>\n",
       "      <td>5.4</td>\n",
       "      <td>2.3</td>\n",
       "      <td>Iris-virginica</td>\n",
       "    </tr>\n",
       "    <tr>\n",
       "      <th>149</th>\n",
       "      <td>5.9</td>\n",
       "      <td>3.0</td>\n",
       "      <td>5.1</td>\n",
       "      <td>1.8</td>\n",
       "      <td>Iris-virginica</td>\n",
       "    </tr>\n",
       "  </tbody>\n",
       "</table>\n",
       "<p>150 rows × 5 columns</p>\n",
       "</div>"
      ],
      "text/plain": [
       "     SepalLengthCm  SepalWidthCm  PetalLengthCm  PetalWidthCm         Species\n",
       "0              5.1           3.5            1.4           0.2     Iris-setosa\n",
       "1              4.9           3.0            1.4           0.2     Iris-setosa\n",
       "2              4.7           3.2            1.3           0.2     Iris-setosa\n",
       "3              4.6           3.1            1.5           0.2     Iris-setosa\n",
       "4              5.0           3.6            1.4           0.2     Iris-setosa\n",
       "..             ...           ...            ...           ...             ...\n",
       "145            6.7           3.0            5.2           2.3  Iris-virginica\n",
       "146            6.3           2.5            5.0           1.9  Iris-virginica\n",
       "147            6.5           3.0            5.2           2.0  Iris-virginica\n",
       "148            6.2           3.4            5.4           2.3  Iris-virginica\n",
       "149            5.9           3.0            5.1           1.8  Iris-virginica\n",
       "\n",
       "[150 rows x 5 columns]"
      ]
     },
     "execution_count": 6,
     "metadata": {},
     "output_type": "execute_result"
    }
   ],
   "source": [
    "df"
   ]
  },
  {
   "cell_type": "code",
   "execution_count": 7,
   "id": "9c224bb6",
   "metadata": {},
   "outputs": [],
   "source": [
    "X = df.iloc[:,:4]"
   ]
  },
  {
   "cell_type": "code",
   "execution_count": 8,
   "id": "181d614b",
   "metadata": {},
   "outputs": [
    {
     "data": {
      "text/html": [
       "<div>\n",
       "<style scoped>\n",
       "    .dataframe tbody tr th:only-of-type {\n",
       "        vertical-align: middle;\n",
       "    }\n",
       "\n",
       "    .dataframe tbody tr th {\n",
       "        vertical-align: top;\n",
       "    }\n",
       "\n",
       "    .dataframe thead th {\n",
       "        text-align: right;\n",
       "    }\n",
       "</style>\n",
       "<table border=\"1\" class=\"dataframe\">\n",
       "  <thead>\n",
       "    <tr style=\"text-align: right;\">\n",
       "      <th></th>\n",
       "      <th>SepalLengthCm</th>\n",
       "      <th>SepalWidthCm</th>\n",
       "      <th>PetalLengthCm</th>\n",
       "      <th>PetalWidthCm</th>\n",
       "    </tr>\n",
       "  </thead>\n",
       "  <tbody>\n",
       "    <tr>\n",
       "      <th>0</th>\n",
       "      <td>5.1</td>\n",
       "      <td>3.5</td>\n",
       "      <td>1.4</td>\n",
       "      <td>0.2</td>\n",
       "    </tr>\n",
       "    <tr>\n",
       "      <th>1</th>\n",
       "      <td>4.9</td>\n",
       "      <td>3.0</td>\n",
       "      <td>1.4</td>\n",
       "      <td>0.2</td>\n",
       "    </tr>\n",
       "    <tr>\n",
       "      <th>2</th>\n",
       "      <td>4.7</td>\n",
       "      <td>3.2</td>\n",
       "      <td>1.3</td>\n",
       "      <td>0.2</td>\n",
       "    </tr>\n",
       "    <tr>\n",
       "      <th>3</th>\n",
       "      <td>4.6</td>\n",
       "      <td>3.1</td>\n",
       "      <td>1.5</td>\n",
       "      <td>0.2</td>\n",
       "    </tr>\n",
       "    <tr>\n",
       "      <th>4</th>\n",
       "      <td>5.0</td>\n",
       "      <td>3.6</td>\n",
       "      <td>1.4</td>\n",
       "      <td>0.2</td>\n",
       "    </tr>\n",
       "    <tr>\n",
       "      <th>...</th>\n",
       "      <td>...</td>\n",
       "      <td>...</td>\n",
       "      <td>...</td>\n",
       "      <td>...</td>\n",
       "    </tr>\n",
       "    <tr>\n",
       "      <th>145</th>\n",
       "      <td>6.7</td>\n",
       "      <td>3.0</td>\n",
       "      <td>5.2</td>\n",
       "      <td>2.3</td>\n",
       "    </tr>\n",
       "    <tr>\n",
       "      <th>146</th>\n",
       "      <td>6.3</td>\n",
       "      <td>2.5</td>\n",
       "      <td>5.0</td>\n",
       "      <td>1.9</td>\n",
       "    </tr>\n",
       "    <tr>\n",
       "      <th>147</th>\n",
       "      <td>6.5</td>\n",
       "      <td>3.0</td>\n",
       "      <td>5.2</td>\n",
       "      <td>2.0</td>\n",
       "    </tr>\n",
       "    <tr>\n",
       "      <th>148</th>\n",
       "      <td>6.2</td>\n",
       "      <td>3.4</td>\n",
       "      <td>5.4</td>\n",
       "      <td>2.3</td>\n",
       "    </tr>\n",
       "    <tr>\n",
       "      <th>149</th>\n",
       "      <td>5.9</td>\n",
       "      <td>3.0</td>\n",
       "      <td>5.1</td>\n",
       "      <td>1.8</td>\n",
       "    </tr>\n",
       "  </tbody>\n",
       "</table>\n",
       "<p>150 rows × 4 columns</p>\n",
       "</div>"
      ],
      "text/plain": [
       "     SepalLengthCm  SepalWidthCm  PetalLengthCm  PetalWidthCm\n",
       "0              5.1           3.5            1.4           0.2\n",
       "1              4.9           3.0            1.4           0.2\n",
       "2              4.7           3.2            1.3           0.2\n",
       "3              4.6           3.1            1.5           0.2\n",
       "4              5.0           3.6            1.4           0.2\n",
       "..             ...           ...            ...           ...\n",
       "145            6.7           3.0            5.2           2.3\n",
       "146            6.3           2.5            5.0           1.9\n",
       "147            6.5           3.0            5.2           2.0\n",
       "148            6.2           3.4            5.4           2.3\n",
       "149            5.9           3.0            5.1           1.8\n",
       "\n",
       "[150 rows x 4 columns]"
      ]
     },
     "execution_count": 8,
     "metadata": {},
     "output_type": "execute_result"
    }
   ],
   "source": [
    "X"
   ]
  },
  {
   "cell_type": "code",
   "execution_count": 10,
   "id": "db3d0426",
   "metadata": {},
   "outputs": [],
   "source": [
    "y = df.iloc[:,4]"
   ]
  },
  {
   "cell_type": "code",
   "execution_count": 11,
   "id": "264e0627",
   "metadata": {},
   "outputs": [
    {
     "data": {
      "text/plain": [
       "0         Iris-setosa\n",
       "1         Iris-setosa\n",
       "2         Iris-setosa\n",
       "3         Iris-setosa\n",
       "4         Iris-setosa\n",
       "            ...      \n",
       "145    Iris-virginica\n",
       "146    Iris-virginica\n",
       "147    Iris-virginica\n",
       "148    Iris-virginica\n",
       "149    Iris-virginica\n",
       "Name: Species, Length: 150, dtype: object"
      ]
     },
     "execution_count": 11,
     "metadata": {},
     "output_type": "execute_result"
    }
   ],
   "source": [
    "y"
   ]
  },
  {
   "cell_type": "code",
   "execution_count": 12,
   "id": "08a99cb8",
   "metadata": {},
   "outputs": [],
   "source": [
    "from sklearn.preprocessing import LabelEncoder"
   ]
  },
  {
   "cell_type": "code",
   "execution_count": 13,
   "id": "4db94df8",
   "metadata": {},
   "outputs": [],
   "source": [
    "lr = LabelEncoder()"
   ]
  },
  {
   "cell_type": "code",
   "execution_count": 28,
   "id": "9a87f06a",
   "metadata": {},
   "outputs": [],
   "source": [
    "y = lr.fit_transform(y)"
   ]
  },
  {
   "cell_type": "code",
   "execution_count": 29,
   "id": "04a06276",
   "metadata": {},
   "outputs": [],
   "source": [
    "from sklearn.model_selection import train_test_split\n",
    "X_train, X_test, y_train, y_test = train_test_split(X,y,test_size = 0.2,random_state =22)"
   ]
  },
  {
   "cell_type": "code",
   "execution_count": 30,
   "id": "8d3f9774",
   "metadata": {},
   "outputs": [
    {
     "data": {
      "text/plain": [
       "array([0, 0, 1, 1, 1, 0, 0, 0, 2, 2, 1, 1, 0, 0, 1, 1, 2, 2, 0, 1, 1, 2,\n",
       "       0, 0, 0, 0, 0, 0, 2, 1, 1, 2, 0, 0, 0, 0, 1, 0, 1, 1, 1, 1, 1, 0,\n",
       "       1, 2, 0, 2, 1, 2, 1, 1, 1, 0, 0, 2, 1, 0, 1, 1, 2, 2, 0, 2, 0, 2,\n",
       "       0, 1, 0, 2, 1, 2, 1, 2, 0, 1, 1, 1, 1, 2, 0, 0, 2, 1, 1, 0, 1, 0,\n",
       "       2, 2, 2, 2, 0, 2, 2, 0, 1, 1, 0, 2, 0, 1, 0, 2, 0, 2, 2, 0, 2, 0,\n",
       "       1, 0, 0, 2, 1, 2, 2, 0, 2, 2])"
      ]
     },
     "execution_count": 30,
     "metadata": {},
     "output_type": "execute_result"
    }
   ],
   "source": [
    "y_train"
   ]
  },
  {
   "cell_type": "code",
   "execution_count": 31,
   "id": "214d92f6",
   "metadata": {},
   "outputs": [
    {
     "data": {
      "text/html": [
       "<div>\n",
       "<style scoped>\n",
       "    .dataframe tbody tr th:only-of-type {\n",
       "        vertical-align: middle;\n",
       "    }\n",
       "\n",
       "    .dataframe tbody tr th {\n",
       "        vertical-align: top;\n",
       "    }\n",
       "\n",
       "    .dataframe thead th {\n",
       "        text-align: right;\n",
       "    }\n",
       "</style>\n",
       "<table border=\"1\" class=\"dataframe\">\n",
       "  <thead>\n",
       "    <tr style=\"text-align: right;\">\n",
       "      <th></th>\n",
       "      <th>SepalLengthCm</th>\n",
       "      <th>SepalWidthCm</th>\n",
       "      <th>PetalLengthCm</th>\n",
       "      <th>PetalWidthCm</th>\n",
       "    </tr>\n",
       "  </thead>\n",
       "  <tbody>\n",
       "    <tr>\n",
       "      <th>30</th>\n",
       "      <td>4.8</td>\n",
       "      <td>3.1</td>\n",
       "      <td>1.6</td>\n",
       "      <td>0.2</td>\n",
       "    </tr>\n",
       "    <tr>\n",
       "      <th>31</th>\n",
       "      <td>5.4</td>\n",
       "      <td>3.4</td>\n",
       "      <td>1.5</td>\n",
       "      <td>0.4</td>\n",
       "    </tr>\n",
       "    <tr>\n",
       "      <th>89</th>\n",
       "      <td>5.5</td>\n",
       "      <td>2.5</td>\n",
       "      <td>4.0</td>\n",
       "      <td>1.3</td>\n",
       "    </tr>\n",
       "    <tr>\n",
       "      <th>90</th>\n",
       "      <td>5.5</td>\n",
       "      <td>2.6</td>\n",
       "      <td>4.4</td>\n",
       "      <td>1.2</td>\n",
       "    </tr>\n",
       "    <tr>\n",
       "      <th>55</th>\n",
       "      <td>5.7</td>\n",
       "      <td>2.8</td>\n",
       "      <td>4.5</td>\n",
       "      <td>1.3</td>\n",
       "    </tr>\n",
       "    <tr>\n",
       "      <th>...</th>\n",
       "      <td>...</td>\n",
       "      <td>...</td>\n",
       "      <td>...</td>\n",
       "      <td>...</td>\n",
       "    </tr>\n",
       "    <tr>\n",
       "      <th>102</th>\n",
       "      <td>7.1</td>\n",
       "      <td>3.0</td>\n",
       "      <td>5.9</td>\n",
       "      <td>2.1</td>\n",
       "    </tr>\n",
       "    <tr>\n",
       "      <th>100</th>\n",
       "      <td>6.3</td>\n",
       "      <td>3.3</td>\n",
       "      <td>6.0</td>\n",
       "      <td>2.5</td>\n",
       "    </tr>\n",
       "    <tr>\n",
       "      <th>44</th>\n",
       "      <td>5.1</td>\n",
       "      <td>3.8</td>\n",
       "      <td>1.9</td>\n",
       "      <td>0.4</td>\n",
       "    </tr>\n",
       "    <tr>\n",
       "      <th>132</th>\n",
       "      <td>6.4</td>\n",
       "      <td>2.8</td>\n",
       "      <td>5.6</td>\n",
       "      <td>2.2</td>\n",
       "    </tr>\n",
       "    <tr>\n",
       "      <th>117</th>\n",
       "      <td>7.7</td>\n",
       "      <td>3.8</td>\n",
       "      <td>6.7</td>\n",
       "      <td>2.2</td>\n",
       "    </tr>\n",
       "  </tbody>\n",
       "</table>\n",
       "<p>120 rows × 4 columns</p>\n",
       "</div>"
      ],
      "text/plain": [
       "     SepalLengthCm  SepalWidthCm  PetalLengthCm  PetalWidthCm\n",
       "30             4.8           3.1            1.6           0.2\n",
       "31             5.4           3.4            1.5           0.4\n",
       "89             5.5           2.5            4.0           1.3\n",
       "90             5.5           2.6            4.4           1.2\n",
       "55             5.7           2.8            4.5           1.3\n",
       "..             ...           ...            ...           ...\n",
       "102            7.1           3.0            5.9           2.1\n",
       "100            6.3           3.3            6.0           2.5\n",
       "44             5.1           3.8            1.9           0.4\n",
       "132            6.4           2.8            5.6           2.2\n",
       "117            7.7           3.8            6.7           2.2\n",
       "\n",
       "[120 rows x 4 columns]"
      ]
     },
     "execution_count": 31,
     "metadata": {},
     "output_type": "execute_result"
    }
   ],
   "source": [
    "X_train"
   ]
  },
  {
   "cell_type": "code",
   "execution_count": 64,
   "id": "e98847ea",
   "metadata": {},
   "outputs": [],
   "source": [
    "weights = np.zeros((5,))"
   ]
  },
  {
   "cell_type": "code",
   "execution_count": 55,
   "id": "6d1f65da",
   "metadata": {},
   "outputs": [
    {
     "data": {
      "text/plain": [
       "array([0., 0., 0., 0., 0.])"
      ]
     },
     "execution_count": 55,
     "metadata": {},
     "output_type": "execute_result"
    }
   ],
   "source": [
    "weights"
   ]
  },
  {
   "cell_type": "code",
   "execution_count": 34,
   "id": "2947dec7",
   "metadata": {},
   "outputs": [],
   "source": [
    "ones = np.ones((120))"
   ]
  },
  {
   "cell_type": "code",
   "execution_count": 35,
   "id": "ce1f814b",
   "metadata": {},
   "outputs": [
    {
     "data": {
      "text/plain": [
       "array([1., 1., 1., 1., 1., 1., 1., 1., 1., 1., 1., 1., 1., 1., 1., 1., 1.,\n",
       "       1., 1., 1., 1., 1., 1., 1., 1., 1., 1., 1., 1., 1., 1., 1., 1., 1.,\n",
       "       1., 1., 1., 1., 1., 1., 1., 1., 1., 1., 1., 1., 1., 1., 1., 1., 1.,\n",
       "       1., 1., 1., 1., 1., 1., 1., 1., 1., 1., 1., 1., 1., 1., 1., 1., 1.,\n",
       "       1., 1., 1., 1., 1., 1., 1., 1., 1., 1., 1., 1., 1., 1., 1., 1., 1.,\n",
       "       1., 1., 1., 1., 1., 1., 1., 1., 1., 1., 1., 1., 1., 1., 1., 1., 1.,\n",
       "       1., 1., 1., 1., 1., 1., 1., 1., 1., 1., 1., 1., 1., 1., 1., 1., 1.,\n",
       "       1.])"
      ]
     },
     "execution_count": 35,
     "metadata": {},
     "output_type": "execute_result"
    }
   ],
   "source": [
    "ones"
   ]
  },
  {
   "cell_type": "code",
   "execution_count": 36,
   "id": "a98686b2",
   "metadata": {},
   "outputs": [],
   "source": [
    "X_new = np.c_[ones,X_train]"
   ]
  },
  {
   "cell_type": "code",
   "execution_count": 37,
   "id": "bff7c792",
   "metadata": {},
   "outputs": [
    {
     "data": {
      "text/plain": [
       "array([[1. , 4.8, 3.1, 1.6, 0.2],\n",
       "       [1. , 5.4, 3.4, 1.5, 0.4],\n",
       "       [1. , 5.5, 2.5, 4. , 1.3],\n",
       "       [1. , 5.5, 2.6, 4.4, 1.2],\n",
       "       [1. , 5.7, 2.8, 4.5, 1.3],\n",
       "       [1. , 5. , 3.4, 1.6, 0.4],\n",
       "       [1. , 5.1, 3.4, 1.5, 0.2],\n",
       "       [1. , 4.9, 3.1, 1.5, 0.1],\n",
       "       [1. , 6.9, 3.1, 5.4, 2.1],\n",
       "       [1. , 6.7, 2.5, 5.8, 1.8],\n",
       "       [1. , 7. , 3.2, 4.7, 1.4],\n",
       "       [1. , 6.3, 3.3, 4.7, 1.6],\n",
       "       [1. , 5.4, 3.9, 1.3, 0.4],\n",
       "       [1. , 4.4, 3.2, 1.3, 0.2],\n",
       "       [1. , 6.7, 3. , 5. , 1.7],\n",
       "       [1. , 5.6, 3. , 4.1, 1.3],\n",
       "       [1. , 5.7, 2.5, 5. , 2. ],\n",
       "       [1. , 6.5, 3. , 5.8, 2.2],\n",
       "       [1. , 5. , 3.6, 1.4, 0.2],\n",
       "       [1. , 6.1, 2.8, 4. , 1.3],\n",
       "       [1. , 6. , 3.4, 4.5, 1.6],\n",
       "       [1. , 6.7, 3. , 5.2, 2.3],\n",
       "       [1. , 5.7, 4.4, 1.5, 0.4],\n",
       "       [1. , 5.4, 3.4, 1.7, 0.2],\n",
       "       [1. , 5. , 3.5, 1.3, 0.3],\n",
       "       [1. , 4.8, 3. , 1.4, 0.1],\n",
       "       [1. , 5.5, 4.2, 1.4, 0.2],\n",
       "       [1. , 4.6, 3.6, 1. , 0.2],\n",
       "       [1. , 7.2, 3.2, 6. , 1.8],\n",
       "       [1. , 5.1, 2.5, 3. , 1.1],\n",
       "       [1. , 6.4, 3.2, 4.5, 1.5],\n",
       "       [1. , 7.3, 2.9, 6.3, 1.8],\n",
       "       [1. , 4.5, 2.3, 1.3, 0.3],\n",
       "       [1. , 5. , 3. , 1.6, 0.2],\n",
       "       [1. , 5.7, 3.8, 1.7, 0.3],\n",
       "       [1. , 5. , 3.3, 1.4, 0.2],\n",
       "       [1. , 6.2, 2.2, 4.5, 1.5],\n",
       "       [1. , 5.1, 3.5, 1.4, 0.2],\n",
       "       [1. , 6.4, 2.9, 4.3, 1.3],\n",
       "       [1. , 4.9, 2.4, 3.3, 1. ],\n",
       "       [1. , 6.3, 2.5, 4.9, 1.5],\n",
       "       [1. , 6.1, 2.8, 4.7, 1.2],\n",
       "       [1. , 5.9, 3.2, 4.8, 1.8],\n",
       "       [1. , 5.4, 3.9, 1.7, 0.4],\n",
       "       [1. , 6. , 2.2, 4. , 1. ],\n",
       "       [1. , 6.4, 2.8, 5.6, 2.1],\n",
       "       [1. , 4.8, 3.4, 1.9, 0.2],\n",
       "       [1. , 6.4, 3.1, 5.5, 1.8],\n",
       "       [1. , 5.9, 3. , 4.2, 1.5],\n",
       "       [1. , 6.5, 3. , 5.5, 1.8],\n",
       "       [1. , 6. , 2.9, 4.5, 1.5],\n",
       "       [1. , 5.5, 2.4, 3.8, 1.1],\n",
       "       [1. , 6.2, 2.9, 4.3, 1.3],\n",
       "       [1. , 5.2, 4.1, 1.5, 0.1],\n",
       "       [1. , 5.2, 3.4, 1.4, 0.2],\n",
       "       [1. , 7.7, 2.6, 6.9, 2.3],\n",
       "       [1. , 5.7, 2.6, 3.5, 1. ],\n",
       "       [1. , 4.6, 3.4, 1.4, 0.3],\n",
       "       [1. , 5.8, 2.7, 4.1, 1. ],\n",
       "       [1. , 5.8, 2.7, 3.9, 1.2],\n",
       "       [1. , 6.2, 3.4, 5.4, 2.3],\n",
       "       [1. , 5.9, 3. , 5.1, 1.8],\n",
       "       [1. , 4.6, 3.1, 1.5, 0.2],\n",
       "       [1. , 5.8, 2.8, 5.1, 2.4],\n",
       "       [1. , 5.1, 3.5, 1.4, 0.3],\n",
       "       [1. , 6.8, 3.2, 5.9, 2.3],\n",
       "       [1. , 4.9, 3.1, 1.5, 0.1],\n",
       "       [1. , 5.5, 2.3, 4. , 1.3],\n",
       "       [1. , 5.1, 3.7, 1.5, 0.4],\n",
       "       [1. , 5.8, 2.7, 5.1, 1.9],\n",
       "       [1. , 6.7, 3.1, 4.4, 1.4],\n",
       "       [1. , 6.8, 3. , 5.5, 2.1],\n",
       "       [1. , 5.2, 2.7, 3.9, 1.4],\n",
       "       [1. , 6.7, 3.1, 5.6, 2.4],\n",
       "       [1. , 5.3, 3.7, 1.5, 0.2],\n",
       "       [1. , 5. , 2. , 3.5, 1. ],\n",
       "       [1. , 6.6, 2.9, 4.6, 1.3],\n",
       "       [1. , 6. , 2.7, 5.1, 1.6],\n",
       "       [1. , 6.3, 2.3, 4.4, 1.3],\n",
       "       [1. , 7.7, 3. , 6.1, 2.3],\n",
       "       [1. , 4.9, 3. , 1.4, 0.2],\n",
       "       [1. , 4.6, 3.2, 1.4, 0.2],\n",
       "       [1. , 6.3, 2.7, 4.9, 1.8],\n",
       "       [1. , 6.6, 3. , 4.4, 1.4],\n",
       "       [1. , 6.9, 3.1, 4.9, 1.5],\n",
       "       [1. , 4.3, 3. , 1.1, 0.1],\n",
       "       [1. , 5.6, 2.7, 4.2, 1.3],\n",
       "       [1. , 4.8, 3.4, 1.6, 0.2],\n",
       "       [1. , 7.6, 3. , 6.6, 2.1],\n",
       "       [1. , 7.7, 2.8, 6.7, 2. ],\n",
       "       [1. , 4.9, 2.5, 4.5, 1.7],\n",
       "       [1. , 6.5, 3.2, 5.1, 2. ],\n",
       "       [1. , 5.1, 3.3, 1.7, 0.5],\n",
       "       [1. , 6.3, 2.9, 5.6, 1.8],\n",
       "       [1. , 6.1, 2.6, 5.6, 1.4],\n",
       "       [1. , 5. , 3.4, 1.5, 0.2],\n",
       "       [1. , 6.1, 3. , 4.6, 1.4],\n",
       "       [1. , 5.6, 3. , 4.5, 1.5],\n",
       "       [1. , 5.1, 3.8, 1.5, 0.3],\n",
       "       [1. , 5.6, 2.8, 4.9, 2. ],\n",
       "       [1. , 4.4, 3. , 1.3, 0.2],\n",
       "       [1. , 5.5, 2.4, 3.7, 1. ],\n",
       "       [1. , 4.7, 3.2, 1.6, 0.2],\n",
       "       [1. , 6.7, 3.3, 5.7, 2.5],\n",
       "       [1. , 5.2, 3.5, 1.5, 0.2],\n",
       "       [1. , 6.4, 2.7, 5.3, 1.9],\n",
       "       [1. , 6.3, 2.8, 5.1, 1.5],\n",
       "       [1. , 4.4, 2.9, 1.4, 0.2],\n",
       "       [1. , 6.1, 3. , 4.9, 1.8],\n",
       "       [1. , 4.9, 3.1, 1.5, 0.1],\n",
       "       [1. , 5. , 2.3, 3.3, 1. ],\n",
       "       [1. , 4.8, 3. , 1.4, 0.3],\n",
       "       [1. , 5.8, 4. , 1.2, 0.2],\n",
       "       [1. , 6.3, 3.4, 5.6, 2.4],\n",
       "       [1. , 5.4, 3. , 4.5, 1.5],\n",
       "       [1. , 7.1, 3. , 5.9, 2.1],\n",
       "       [1. , 6.3, 3.3, 6. , 2.5],\n",
       "       [1. , 5.1, 3.8, 1.9, 0.4],\n",
       "       [1. , 6.4, 2.8, 5.6, 2.2],\n",
       "       [1. , 7.7, 3.8, 6.7, 2.2]])"
      ]
     },
     "execution_count": 37,
     "metadata": {},
     "output_type": "execute_result"
    }
   ],
   "source": [
    "X_new"
   ]
  },
  {
   "cell_type": "code",
   "execution_count": 38,
   "id": "71b460ce",
   "metadata": {},
   "outputs": [
    {
     "data": {
      "text/plain": [
       "(120, 5)"
      ]
     },
     "execution_count": 38,
     "metadata": {},
     "output_type": "execute_result"
    }
   ],
   "source": [
    "X_new.shape"
   ]
  },
  {
   "cell_type": "code",
   "execution_count": 63,
   "id": "fddc1967",
   "metadata": {},
   "outputs": [],
   "source": [
    "iter = 300\n",
    "alpha = 0.001"
   ]
  },
  {
   "cell_type": "code",
   "execution_count": 40,
   "id": "993f5311",
   "metadata": {},
   "outputs": [],
   "source": [
    "from numpy import exp"
   ]
  },
  {
   "cell_type": "code",
   "execution_count": 65,
   "id": "d2fb94cd",
   "metadata": {},
   "outputs": [],
   "source": [
    "for i in range(iter):\n",
    "    z = np.dot(X_new,weights)\n",
    "    p = 1/(1+exp(-z))\n",
    "    weights = weights - alpha*np.dot(X_new.T,(p-y_train))"
   ]
  },
  {
   "cell_type": "code",
   "execution_count": 66,
   "id": "366a8557",
   "metadata": {},
   "outputs": [
    {
     "data": {
      "text/plain": [
       "array([ -2.32425811,   5.34472043, -12.81480634,  41.28512092,\n",
       "        18.91399227])"
      ]
     },
     "execution_count": 66,
     "metadata": {},
     "output_type": "execute_result"
    }
   ],
   "source": [
    "weights"
   ]
  },
  {
   "cell_type": "code",
   "execution_count": 67,
   "id": "d64e1cec",
   "metadata": {},
   "outputs": [
    {
     "data": {
      "text/plain": [
       "(30, 4)"
      ]
     },
     "execution_count": 67,
     "metadata": {},
     "output_type": "execute_result"
    }
   ],
   "source": [
    "X_test.shape"
   ]
  },
  {
   "cell_type": "code",
   "execution_count": 68,
   "id": "ec674389",
   "metadata": {},
   "outputs": [],
   "source": [
    "ones_1 = np.ones((30,))"
   ]
  },
  {
   "cell_type": "code",
   "execution_count": 70,
   "id": "129f0f7c",
   "metadata": {},
   "outputs": [
    {
     "data": {
      "text/plain": [
       "(30,)"
      ]
     },
     "execution_count": 70,
     "metadata": {},
     "output_type": "execute_result"
    }
   ],
   "source": [
    "ones_1.shape"
   ]
  },
  {
   "cell_type": "code",
   "execution_count": 71,
   "id": "b587568a",
   "metadata": {},
   "outputs": [],
   "source": [
    "X_pred = np.c_[ones_1,X_test]"
   ]
  },
  {
   "cell_type": "code",
   "execution_count": 72,
   "id": "c713e1bc",
   "metadata": {},
   "outputs": [
    {
     "data": {
      "text/plain": [
       "array([[1. , 5.4, 3.7, 1.5, 0.2],\n",
       "       [1. , 6.4, 3.2, 5.3, 2.3],\n",
       "       [1. , 6.5, 2.8, 4.6, 1.5],\n",
       "       [1. , 6.3, 2.5, 5. , 1.9],\n",
       "       [1. , 6.1, 2.9, 4.7, 1.4],\n",
       "       [1. , 6.8, 2.8, 4.8, 1.4],\n",
       "       [1. , 6.7, 3.1, 4.7, 1.5],\n",
       "       [1. , 6. , 3. , 4.8, 1.8],\n",
       "       [1. , 5.6, 2.9, 3.6, 1.3],\n",
       "       [1. , 5. , 3.2, 1.2, 0.2],\n",
       "       [1. , 6.9, 3.2, 5.7, 2.3],\n",
       "       [1. , 5.7, 3. , 4.2, 1.2],\n",
       "       [1. , 7.4, 2.8, 6.1, 1.9],\n",
       "       [1. , 7.2, 3.6, 6.1, 2.5],\n",
       "       [1. , 5. , 3.5, 1.6, 0.6],\n",
       "       [1. , 7.9, 3.8, 6.4, 2. ],\n",
       "       [1. , 5.6, 2.5, 3.9, 1.1],\n",
       "       [1. , 5.7, 2.8, 4.1, 1.3],\n",
       "       [1. , 6. , 2.2, 5. , 1.5],\n",
       "       [1. , 5.7, 2.9, 4.2, 1.3],\n",
       "       [1. , 5.1, 3.8, 1.6, 0.2],\n",
       "       [1. , 6.9, 3.1, 5.1, 2.3],\n",
       "       [1. , 5.5, 3.5, 1.3, 0.2],\n",
       "       [1. , 5.8, 2.6, 4. , 1.2],\n",
       "       [1. , 5.8, 2.7, 5.1, 1.9],\n",
       "       [1. , 4.7, 3.2, 1.3, 0.2],\n",
       "       [1. , 7.2, 3. , 5.8, 1.6],\n",
       "       [1. , 6.5, 3. , 5.2, 2. ],\n",
       "       [1. , 6.7, 3.3, 5.7, 2.1],\n",
       "       [1. , 6.2, 2.8, 4.8, 1.8]])"
      ]
     },
     "execution_count": 72,
     "metadata": {},
     "output_type": "execute_result"
    }
   ],
   "source": [
    "X_pred"
   ]
  },
  {
   "cell_type": "code",
   "execution_count": 73,
   "id": "2223ff54",
   "metadata": {},
   "outputs": [
    {
     "data": {
      "text/plain": [
       "(30, 5)"
      ]
     },
     "execution_count": 73,
     "metadata": {},
     "output_type": "execute_result"
    }
   ],
   "source": [
    "X_pred.shape"
   ]
  },
  {
   "cell_type": "code",
   "execution_count": 74,
   "id": "cade31e3",
   "metadata": {},
   "outputs": [],
   "source": [
    "y_pred = np.dot(X_pred,weights)"
   ]
  },
  {
   "cell_type": "code",
   "execution_count": 75,
   "id": "90be4797",
   "metadata": {},
   "outputs": [
    {
     "data": {
      "text/plain": [
       "array([ 44.8329286 , 253.18789548, 214.8175116 , 241.67265469,\n",
       "       213.63525566, 222.78655268, 216.17052587, 223.51341198,\n",
       "       163.6578632 ,  36.71690732, 272.37430407, 185.79052793,\n",
       "       289.12103828, 289.14864448,  56.9521107 , 293.25552766,\n",
       "       177.38652356, 186.11637634, 236.34808355, 188.96340779,\n",
       "        46.07654393, 248.88471214,  39.67333773, 183.19389833,\n",
       "       240.5658453 ,  39.24200329, 267.42939896, 246.48261902,\n",
       "       266.24108089, 227.14531733])"
      ]
     },
     "execution_count": 75,
     "metadata": {},
     "output_type": "execute_result"
    }
   ],
   "source": [
    "y_pred"
   ]
  },
  {
   "cell_type": "code",
   "execution_count": 76,
   "id": "1ecc6f98",
   "metadata": {},
   "outputs": [
    {
     "data": {
      "text/plain": [
       "(30,)"
      ]
     },
     "execution_count": 76,
     "metadata": {},
     "output_type": "execute_result"
    }
   ],
   "source": [
    "y_pred.shape"
   ]
  },
  {
   "cell_type": "code",
   "execution_count": 77,
   "id": "bcfb269d",
   "metadata": {},
   "outputs": [],
   "source": [
    "y_pred1 = []\n",
    "for i in y_pred:\n",
    "    if i < 0.5:\n",
    "        y_pred1.append(0)\n",
    "    else:\n",
    "        y_pred1.append(1)"
   ]
  },
  {
   "cell_type": "code",
   "execution_count": 78,
   "id": "a5ed4920",
   "metadata": {},
   "outputs": [
    {
     "data": {
      "text/plain": [
       "[1,\n",
       " 1,\n",
       " 1,\n",
       " 1,\n",
       " 1,\n",
       " 1,\n",
       " 1,\n",
       " 1,\n",
       " 1,\n",
       " 1,\n",
       " 1,\n",
       " 1,\n",
       " 1,\n",
       " 1,\n",
       " 1,\n",
       " 1,\n",
       " 1,\n",
       " 1,\n",
       " 1,\n",
       " 1,\n",
       " 1,\n",
       " 1,\n",
       " 1,\n",
       " 1,\n",
       " 1,\n",
       " 1,\n",
       " 1,\n",
       " 1,\n",
       " 1,\n",
       " 1]"
      ]
     },
     "execution_count": 78,
     "metadata": {},
     "output_type": "execute_result"
    }
   ],
   "source": [
    "y_pred1"
   ]
  },
  {
   "cell_type": "code",
   "execution_count": 79,
   "id": "1890a5ac",
   "metadata": {},
   "outputs": [],
   "source": [
    "from sklearn.metrics import accuracy_score"
   ]
  },
  {
   "cell_type": "code",
   "execution_count": 80,
   "id": "ab1e057f",
   "metadata": {},
   "outputs": [
    {
     "data": {
      "text/plain": [
       "0.3333333333333333"
      ]
     },
     "execution_count": 80,
     "metadata": {},
     "output_type": "execute_result"
    }
   ],
   "source": [
    "accuracy_score(y_test,y_pred1)"
   ]
  },
  {
   "cell_type": "code",
   "execution_count": 81,
   "id": "d6e66ca5",
   "metadata": {},
   "outputs": [],
   "source": [
    "# No it does not provide better results than report in Q4"
   ]
  },
  {
   "cell_type": "code",
   "execution_count": null,
   "id": "86ea72df",
   "metadata": {},
   "outputs": [],
   "source": []
  }
 ],
 "metadata": {
  "kernelspec": {
   "display_name": "Python 3 (ipykernel)",
   "language": "python",
   "name": "python3"
  },
  "language_info": {
   "codemirror_mode": {
    "name": "ipython",
    "version": 3
   },
   "file_extension": ".py",
   "mimetype": "text/x-python",
   "name": "python",
   "nbconvert_exporter": "python",
   "pygments_lexer": "ipython3",
   "version": "3.9.7"
  }
 },
 "nbformat": 4,
 "nbformat_minor": 5
}
